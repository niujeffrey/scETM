{
 "cells": [
  {
   "cell_type": "markdown",
   "id": "fc4f3727",
   "metadata": {},
   "source": [
    "# Pathway Analysis\n",
    "\n",
    "Analyze the pathways represented by the topics"
   ]
  },
  {
   "cell_type": "code",
   "execution_count": 1,
   "id": "beae1224",
   "metadata": {},
   "outputs": [],
   "source": [
    "import sys\n",
    "sys.path.append('/scratch/st-jiaruid-1/yinian/my_jupyter/scETM/src/scETM/')\n",
    "\n",
    "import os\n",
    "os.environ[ 'NUMBA_CACHE_DIR' ] = '/scratch/st-jiaruid-1/yinian/tmp/' # https://github.com/scverse/scanpy/issues/2113"
   ]
  },
  {
   "cell_type": "code",
   "execution_count": 2,
   "id": "3aa8b5c5",
   "metadata": {},
   "outputs": [
    {
     "data": {
      "text/plain": [
       "'/scratch/st-jiaruid-1/yinian/my_jupyter/scETM/notebooks'"
      ]
     },
     "execution_count": 2,
     "metadata": {},
     "output_type": "execute_result"
    }
   ],
   "source": [
    "import pickle\n",
    "import os\n",
    "import numpy as np\n",
    "import torch.nn.functional as F \n",
    "import torch\n",
    "import pandas as pd\n",
    "import anndata as ad\n",
    "from multiprocessing import Pool\n",
    "\n",
    "os.getcwd()"
   ]
  },
  {
   "cell_type": "code",
   "execution_count": 4,
   "id": "8e17e83c",
   "metadata": {},
   "outputs": [],
   "source": [
    "import yaml\n",
    "from pathlib import Path\n",
    "import pickle\n",
    "import matplotlib.pyplot as plt"
   ]
  },
  {
   "cell_type": "code",
   "execution_count": 5,
   "id": "22bf4083",
   "metadata": {},
   "outputs": [],
   "source": [
    "working_dir = './'"
   ]
  },
  {
   "cell_type": "markdown",
   "id": "9766d6d4",
   "metadata": {},
   "source": [
    "### Load the data"
   ]
  },
  {
   "cell_type": "code",
   "execution_count": 7,
   "id": "49e4dc6d",
   "metadata": {},
   "outputs": [
    {
     "data": {
      "text/plain": [
       "{'files': {'rna': ['/arc/project/st-jiaruid-1/yinian/pbmc/4_13176_raw_rna.h5ad',\n",
       "   '/arc/project/st-jiaruid-1/yinian/pbmc/4_31800_raw_rna.h5ad',\n",
       "   '/arc/project/st-jiaruid-1/yinian/pbmc/4_32606_raw_rna.h5ad'],\n",
       "  'protein': ['/arc/project/st-jiaruid-1/yinian/pbmc/4_13176_raw_protein.h5ad',\n",
       "   '/arc/project/st-jiaruid-1/yinian/pbmc/4_31800_raw_protein.h5ad',\n",
       "   '/arc/project/st-jiaruid-1/yinian/pbmc/4_32606_raw_protein.h5ad'],\n",
       "  'combined': ['/arc/project/st-jiaruid-1/yinian/pbmc/4_13176_raw_combined.h5ad',\n",
       "   '/arc/project/st-jiaruid-1/yinian/pbmc/4_31800_raw_combined.h5ad',\n",
       "   '/arc/project/st-jiaruid-1/yinian/pbmc/4_32606_raw_combined.h5ad'],\n",
       "  'gene_indices': '/scratch/st-jiaruid-1/yinian/my_jupyter/scETM/scripts/gene_indices_1.pkl'},\n",
       " 'model_params': {'n_epochs': 12000,\n",
       "  'eval_every': 3000,\n",
       "  'cell_type_col': 'cell_type',\n",
       "  'day': 4,\n",
       "  'donor': 'all',\n",
       "  'rna_n_vars': 22085},\n",
       " 'ckpt_dir': '/scratch/st-jiaruid-1/yinian/my_jupyter/scETM/results/'}"
      ]
     },
     "execution_count": 7,
     "metadata": {},
     "output_type": "execute_result"
    }
   ],
   "source": [
    "config = yaml.safe_load(Path('../experiments/4_all.yaml').read_text())\n",
    "config"
   ]
  },
  {
   "cell_type": "code",
   "execution_count": 8,
   "id": "6b47e6eb",
   "metadata": {},
   "outputs": [],
   "source": [
    "files = config['files']\n",
    "model_params = config['model_params']\n",
    "if model_params['cell_type_col'] == 'None':\n",
    "    model_params['cell_type_col'] = None"
   ]
  },
  {
   "cell_type": "code",
   "execution_count": 9,
   "id": "90e554ea",
   "metadata": {},
   "outputs": [
    {
     "data": {
      "text/plain": [
       "AnnData object with n_obs × n_vars = 28126 × 22225\n",
       "    obs: 'day', 'donor', 'cell_type', 'technology', 'batch_indices'"
      ]
     },
     "execution_count": 9,
     "metadata": {},
     "output_type": "execute_result"
    }
   ],
   "source": [
    "combined_files = files['combined']\n",
    "adata = ad.concat([ad.read_h5ad(r_file) for r_file in combined_files], label=\"batch_indices\")\n",
    "adata"
   ]
  },
  {
   "cell_type": "code",
   "execution_count": 10,
   "id": "b2781fa3",
   "metadata": {},
   "outputs": [
    {
     "data": {
      "text/plain": [
       "((50, 400), (22225, 400))"
      ]
     },
     "execution_count": 10,
     "metadata": {},
     "output_type": "execute_result"
    }
   ],
   "source": [
    "file = open('/scratch/st-jiaruid-1/yinian/my_jupyter/scETM/results/multiETM/multiETM_4_all/outputs.pkl', 'rb')\n",
    "outputs = pickle.load(file)\n",
    "outputs['alpha'].shape, outputs['rho'].shape"
   ]
  },
  {
   "cell_type": "code",
   "execution_count": 11,
   "id": "333ae0dc",
   "metadata": {},
   "outputs": [
    {
     "data": {
      "text/plain": [
       "((28126, 50), (50, 400), (22225, 400))"
      ]
     },
     "execution_count": 11,
     "metadata": {},
     "output_type": "execute_result"
    }
   ],
   "source": [
    "delta, alpha, rho = map(pd.DataFrame, [outputs['delta'], outputs['alpha'], outputs['rho']])\n",
    "delta.index = adata.obs_names\n",
    "rho.index = adata.var_names\n",
    "delta.shape, alpha.shape, rho.shape"
   ]
  },
  {
   "cell_type": "code",
   "execution_count": 12,
   "id": "89bad4ae",
   "metadata": {},
   "outputs": [
    {
     "name": "stdout",
     "output_type": "stream",
     "text": [
      "Get top 30 genes per topic (for enrichment analysis)\n"
     ]
    }
   ],
   "source": [
    "print('Get top 30 genes per topic (for enrichment analysis)')\n",
    "beta = rho @ alpha.T  # (gene, topic)\n",
    "\n",
    "top_words = pd.DataFrame(adata.var_names.values[np.argsort(beta.values, axis=0)[:-31:-1]])  # (n_top, topic)\n",
    "# top_words.to_csv(os.path.join(working_dir, 'beta_top30genes_.csv'))"
   ]
  },
  {
   "cell_type": "code",
   "execution_count": 13,
   "id": "6405dd02",
   "metadata": {},
   "outputs": [
    {
     "name": "stdout",
     "output_type": "stream",
     "text": [
      "Saving unnormliazed topic mixture delta\n",
      "Saving metadata\n",
      "Saving normalized topic mixture theta\n"
     ]
    }
   ],
   "source": [
    "print('Saving unnormliazed topic mixture delta')\n",
    "# delta.to_csv(os.path.join(working_dir, 'delta.csv'))\n",
    "\n",
    "print('Saving metadata')\n",
    "## create meta csv (condition, individual_id, cell_type)\n",
    "# adata.obs.to_csv(os.path.join(working_dir, 'meta.csv'))\n",
    "\n",
    "print('Saving normalized topic mixture theta')\n",
    "theta = torch.tensor(delta.values).softmax(dim=-1).detach().cpu().numpy()\n",
    "theta = pd.DataFrame(theta, index=adata.obs_names)\n",
    "# theta.to_csv(os.path.join(working_dir, 'theta.csv'))"
   ]
  },
  {
   "cell_type": "code",
   "execution_count": 14,
   "id": "fb4c1815",
   "metadata": {},
   "outputs": [
    {
     "name": "stdout",
     "output_type": "stream",
     "text": [
      "Sampling theta\n"
     ]
    }
   ],
   "source": [
    "# by default, keep all topics\n",
    "print('Sampling theta')\n",
    "delta_sample = delta.sample(10000)\n",
    "topic_kept = delta_sample.columns[delta_sample.sum(0) >= 1500]  # (topics)\n",
    "meta_sample = adata.obs.loc[delta_sample.index]\n",
    "# delta_sample.to_csv(os.path.join(working_dir, 'delta_sampled.csv'))\n",
    "# meta_sample.to_csv(os.path.join(working_dir, 'meta_sampled.csv'))\n",
    "\n",
    "delta_kept = delta[topic_kept]  # (cells, topics)"
   ]
  },
  {
   "cell_type": "code",
   "execution_count": null,
   "id": "413a19cd",
   "metadata": {},
   "outputs": [],
   "source": [
    "print(\"Pathway enrichment analysis\")\n",
    "from pathdip import pathDIP_Http \n",
    "\n",
    "n_topics = delta.shape[1]\n",
    "component = \"Literature curated (core) pathway memberships\"\n",
    "sources = \"ACSN2,BioCarta,EHMN,HumanCyc,INOH,IPAVS,KEGG,NetPath,OntoCancro,Panther_Pathway,PharmGKB,PID,RB-Pathways,REACTOME,stke,systems-biology.org,SignaLink2.0,SIGNOR2.0,SMPDB,Spike,UniProt_Pathways,WikiPathways\"\n",
    "o = pathDIP_Http()\n",
    "pathway_df=[]\n",
    "for i in range(n_topics):\n",
    "    IDs = ', '.join(top_words[i])\n",
    "    o.searchOnGenesymbols(IDs, component, sources)\n",
    "    result = o.getPathwayAnalysis().split('\\n')[1:]\n",
    "    for line in result:\n",
    "        p = line.split('\\t')[:-1]\n",
    "        p.append(i)\n",
    "        if len(p) == 1:\n",
    "            continue\n",
    "        pathway_df.append(p)\n",
    "pathway_df = pd.DataFrame(pathway_df, columns = ['pathway_source','pathway_name','p_val','q_val_BH','q_val_Bonf','topic'])  # (pathways, features)\n",
    "\n",
    "pathway_df['q_val_BH'] = pathway_df['q_val_BH'].astype(float)\n",
    "pathway_df = pathway_df[pathway_df['q_val_BH'] < 0.05]\n",
    "pathway_df.to_csv(os.path.join(working_dir, 'pathways.csv'))"
   ]
  }
 ],
 "metadata": {
  "kernelspec": {
   "display_name": "gpu",
   "language": "python",
   "name": "gpu"
  },
  "language_info": {
   "codemirror_mode": {
    "name": "ipython",
    "version": 3
   },
   "file_extension": ".py",
   "mimetype": "text/x-python",
   "name": "python",
   "nbconvert_exporter": "python",
   "pygments_lexer": "ipython3",
   "version": "3.9.13"
  }
 },
 "nbformat": 4,
 "nbformat_minor": 5
}
