{
 "cells": [
  {
   "cell_type": "code",
   "execution_count": 2,
   "id": "59a410c6",
   "metadata": {},
   "outputs": [],
   "source": [
    "import sys\n",
    "sys.path.append('../src/scETM/')"
   ]
  },
  {
   "cell_type": "code",
   "execution_count": 3,
   "id": "bbf96291",
   "metadata": {},
   "outputs": [
    {
     "name": "stderr",
     "output_type": "stream",
     "text": [
      "/home/niujeffrey/anaconda3/envs/cpsc536r/lib/python3.10/site-packages/tqdm/auto.py:21: TqdmWarning: IProgress not found. Please update jupyter and ipywidgets. See https://ipywidgets.readthedocs.io/en/stable/user_install.html\n",
      "  from .autonotebook import tqdm as notebook_tqdm\n"
     ]
    }
   ],
   "source": [
    "import scanpy as sc\n",
    "import numpy as np\n",
    "import anndata as ad\n",
    "import torch"
   ]
  },
  {
   "cell_type": "code",
   "execution_count": 4,
   "id": "4a9366c9",
   "metadata": {},
   "outputs": [],
   "source": [
    "from batch_sampler import CellSamplerCITE\n",
    "from models.multiETM import MultiETM\n",
    "from trainers.UnsupervisedTrainerCITE import UnsupervisedTrainerCITE"
   ]
  },
  {
   "cell_type": "code",
   "execution_count": 5,
   "id": "ff62e8e0",
   "metadata": {},
   "outputs": [],
   "source": [
    "rna_adata = ad.read_h5ad('./4_13176_raw_rna.h5ad')\n",
    "protein_adata = ad.read_h5ad('./4_13176_raw_protein.h5ad')\n",
    "rna_adata = ad.concat([rna_adata], label=\"batch_indices\")\n",
    "protein_adata = ad.concat([protein_adata], label=\"batch_indices\")"
   ]
  },
  {
   "cell_type": "code",
   "execution_count": 6,
   "id": "4df6cb96",
   "metadata": {},
   "outputs": [
    {
     "name": "stderr",
     "output_type": "stream",
     "text": [
      "n_batches == 1, disabling batch bias\n"
     ]
    }
   ],
   "source": [
    "model = MultiETM(protein_adata.n_vars,rna_adata.n_vars,  1)"
   ]
  },
  {
   "cell_type": "code",
   "execution_count": 7,
   "id": "a4397191",
   "metadata": {},
   "outputs": [],
   "source": [
    "trainer = UnsupervisedTrainerCITE(model,  protein_adata, rna_adata,test_ratio=0.1 )"
   ]
  },
  {
   "cell_type": "code",
   "execution_count": null,
   "id": "56eb263a",
   "metadata": {},
   "outputs": [
    {
     "name": "stdout",
     "output_type": "stream",
     "text": [
      "loss:      46.54\tnll:      46.54\tkl_delta:      83.99\tmax_norm:        193\tEpoch     0/ 1000\tNext ckpt:       0\r"
     ]
    },
    {
     "name": "stderr",
     "output_type": "stream",
     "text": [
      "OMP: Info #276: omp_set_nested routine deprecated, please use omp_set_max_active_levels instead.\n"
     ]
    },
    {
     "name": "stdout",
     "output_type": "stream",
     "text": [
      "loss:      11.92\tnll:      11.92\tkl_delta:      441.3\tmax_norm:    0.05972\tEpoch   435/ 1000\tNext ckpt:    1000\r"
     ]
    }
   ],
   "source": [
    "trainer.train(n_epochs=1000, eval_every=1000, eval_kwargs = dict(cell_type_col = 'cell_type'), n_samplers=1, save_model_ckpt=False)"
   ]
  },
  {
   "cell_type": "raw",
   "id": "0406490b",
   "metadata": {},
   "source": []
  },
  {
   "cell_type": "code",
   "execution_count": 8,
   "id": "2ea454a5",
   "metadata": {},
   "outputs": [
    {
     "data": {
      "text/plain": [
       "array([[ 0.,  0.,  5., ...,  2., 10., 10.],\n",
       "       [ 0.,  5.,  6., ...,  4.,  6., 24.],\n",
       "       [ 0.,  1., 13., ..., 35., 14.,  5.],\n",
       "       ...,\n",
       "       [ 1.,  0., 10., ...,  3., 28., 29.],\n",
       "       [ 1.,  2.,  9., ...,  5.,  9., 50.],\n",
       "       [ 0.,  3.,  4., ...,  3., 20., 43.]], dtype=float32)"
      ]
     },
     "execution_count": 8,
     "metadata": {},
     "output_type": "execute_result"
    }
   ],
   "source": [
    "protein_adata.X"
   ]
  },
  {
   "cell_type": "code",
   "execution_count": 8,
   "id": "e900c3dd",
   "metadata": {},
   "outputs": [],
   "source": [
    "a = torch.rand((200, 2000))\n",
    "b = torch.rand((200, 140))"
   ]
  },
  {
   "cell_type": "code",
   "execution_count": 10,
   "id": "83470a5d",
   "metadata": {},
   "outputs": [
    {
     "data": {
      "text/plain": [
       "torch.Size([200, 2140])"
      ]
     },
     "execution_count": 10,
     "metadata": {},
     "output_type": "execute_result"
    }
   ],
   "source": [
    "a = torch.Tensor([3, ])"
   ]
  },
  {
   "cell_type": "code",
   "execution_count": 12,
   "id": "fe2a156c",
   "metadata": {},
   "outputs": [],
   "source": [
    "from torch.distributions import Independent, Normal\n",
    "from torch.nn.functional import normalize"
   ]
  },
  {
   "cell_type": "code",
   "execution_count": 9,
   "id": "41716c6f",
   "metadata": {},
   "outputs": [],
   "source": [
    "sampler = CellSamplerCITE(rna_adata, protein_adata, batch_size=10000, n_epochs = 1)\n",
    "dataloader = iter(sampler)\n",
    "data_dict = {k: v for k, v in next(dataloader).items()}"
   ]
  },
  {
   "cell_type": "code",
   "execution_count": 36,
   "id": "b9be2888",
   "metadata": {},
   "outputs": [
    {
     "name": "stdout",
     "output_type": "stream",
     "text": [
      "0.0\n",
      "292\n",
      "0.0\n",
      "594\n",
      "0.0\n",
      "1068\n",
      "0.0\n",
      "2163\n",
      "0.0\n",
      "8178\n"
     ]
    }
   ],
   "source": [
    "val = data_dict['cells_protein'] / data_dict['library_size_protein']\n",
    "j = 0\n",
    "for i in data_dict['library_size_protein'].detach().numpy():\n",
    "    if i[0] == 0:\n",
    "        print(i[0])\n",
    "        print(j)\n",
    "    j += 1"
   ]
  },
  {
   "cell_type": "code",
   "execution_count": 33,
   "id": "11883a49",
   "metadata": {},
   "outputs": [],
   "source": [
    "layer = torch.nn.Linear(140, 128)"
   ]
  },
  {
   "cell_type": "code",
   "execution_count": 35,
   "id": "8a3219bd",
   "metadata": {},
   "outputs": [
    {
     "data": {
      "text/plain": [
       "tensor([[ 0.0114, -0.0499, -0.0408,  ..., -0.0692, -0.0738,  0.0328],\n",
       "        [ 0.0114, -0.0428, -0.0382,  ..., -0.0698, -0.0697,  0.0304],\n",
       "        [ 0.0083, -0.0402, -0.0294,  ..., -0.0707, -0.0585,  0.0198],\n",
       "        ...,\n",
       "        [ 0.0065, -0.0590, -0.0401,  ..., -0.0604, -0.0843,  0.0443],\n",
       "        [ 0.0113, -0.0485, -0.0424,  ..., -0.0693, -0.0644,  0.0315],\n",
       "        [ 0.0105, -0.0490, -0.0387,  ..., -0.0712, -0.0716,  0.0326]],\n",
       "       grad_fn=<AddmmBackward0>)"
      ]
     },
     "execution_count": 35,
     "metadata": {},
     "output_type": "execute_result"
    }
   ],
   "source": [
    "layer(val)"
   ]
  },
  {
   "cell_type": "code",
   "execution_count": 15,
   "id": "86e3b57b",
   "metadata": {},
   "outputs": [
    {
     "data": {
      "text/plain": [
       "tensor([[ 4.2549, -1.5641,  8.9214]])"
      ]
     },
     "execution_count": 15,
     "metadata": {},
     "output_type": "execute_result"
    }
   ],
   "source": [
    "q = Independent(Normal(loc=a, scale=b), 1)\n",
    "q.rsample()"
   ]
  }
 ],
 "metadata": {
  "kernelspec": {
   "display_name": "Python 3 (ipykernel)",
   "language": "python",
   "name": "python3"
  },
  "language_info": {
   "codemirror_mode": {
    "name": "ipython",
    "version": 3
   },
   "file_extension": ".py",
   "mimetype": "text/x-python",
   "name": "python",
   "nbconvert_exporter": "python",
   "pygments_lexer": "ipython3",
   "version": "3.10.9"
  }
 },
 "nbformat": 4,
 "nbformat_minor": 5
}
