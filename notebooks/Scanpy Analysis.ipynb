{
 "cells": [
  {
   "cell_type": "markdown",
   "id": "48ca1367",
   "metadata": {},
   "source": [
    "# Scanpy analysis\n",
    "\n",
    "Use Scanpy on both the concatenated data and only RNA data to get ARI and NMI metrics. We follow the standard Scanpy preprocessing pipeline."
   ]
  },
  {
   "cell_type": "code",
   "execution_count": 1,
   "id": "9122cf2c",
   "metadata": {},
   "outputs": [
    {
     "name": "stderr",
     "output_type": "stream",
     "text": [
      "Matplotlib created a temporary config/cache directory at /tmp/pbs.4865804.pbsha.ib.sockeye/matplotlib-yf_1cj5j because the default path (/home/jovyan/.cache/matplotlib) is not a writable directory; it is highly recommended to set the MPLCONFIGDIR environment variable to a writable directory, in particular to speed up the import of Matplotlib and to better support multiprocessing.\n"
     ]
    }
   ],
   "source": [
    "import os\n",
    "os.environ[ 'NUMBA_CACHE_DIR' ] = '/scratch/st-jiaruid-1/yinian/tmp/' # https://github.com/scverse/scanpy/issues/2113\n",
    "\n",
    "import h5py\n",
    "import hdf5plugin\n",
    "import tables\n",
    "\n",
    "import pandas as pd\n",
    "import numpy as np\n",
    "import scipy\n",
    "import seaborn as sns\n",
    "import matplotlib.pyplot as plt\n",
    "import pickle\n",
    "\n",
    "import scanpy as sc\n",
    "import anndata as ad\n",
    "from sklearn.metrics import normalized_mutual_info_score, adjusted_rand_score\n",
    "\n",
    "import yaml\n",
    "from pathlib import Path"
   ]
  },
  {
   "cell_type": "markdown",
   "id": "5dfb0e5c",
   "metadata": {},
   "source": [
    "## Concatenated gene + protein data analysis"
   ]
  },
  {
   "cell_type": "markdown",
   "id": "f27cb425",
   "metadata": {},
   "source": [
    "### Load the data"
   ]
  },
  {
   "cell_type": "code",
   "execution_count": 2,
   "id": "ed614709",
   "metadata": {},
   "outputs": [
    {
     "data": {
      "text/plain": [
       "{'files': {'rna': ['/arc/project/st-jiaruid-1/yinian/pbmc/4_32606_raw_rna.h5ad'],\n",
       "  'protein': ['/arc/project/st-jiaruid-1/yinian/pbmc/4_32606_raw_protein.h5ad'],\n",
       "  'combined': ['/arc/project/st-jiaruid-1/yinian/pbmc/4_32606_raw_combined.h5ad'],\n",
       "  'gene_indices': '/scratch/st-jiaruid-1/yinian/my_jupyter/scETM/scripts/gene_indices_3.pkl'},\n",
       " 'model_params': {'n_epochs': 12000,\n",
       "  'eval_every': 3000,\n",
       "  'cell_type_col': 'cell_type',\n",
       "  'day': 4,\n",
       "  'donor': 32606,\n",
       "  'rna_n_vars': 22085},\n",
       " 'ckpt_dir': '/scratch/st-jiaruid-1/yinian/my_jupyter/scETM/results/'}"
      ]
     },
     "execution_count": 2,
     "metadata": {},
     "output_type": "execute_result"
    }
   ],
   "source": [
    "config = yaml.safe_load(Path('../experiments/4_32606.yaml').read_text())\n",
    "config"
   ]
  },
  {
   "cell_type": "code",
   "execution_count": 3,
   "id": "6a3c9d64",
   "metadata": {},
   "outputs": [],
   "source": [
    "files = config['files']\n",
    "model_params = config['model_params']\n",
    "if model_params['cell_type_col'] == 'None':\n",
    "    model_params['cell_type_col'] = None"
   ]
  },
  {
   "cell_type": "code",
   "execution_count": 4,
   "id": "16375f63",
   "metadata": {},
   "outputs": [
    {
     "data": {
      "text/plain": [
       "AnnData object with n_obs × n_vars = 9504 × 22225\n",
       "    obs: 'day', 'donor', 'cell_type', 'technology', 'batch_indices'"
      ]
     },
     "execution_count": 4,
     "metadata": {},
     "output_type": "execute_result"
    }
   ],
   "source": [
    "# The concatenated data\n",
    "combined_files = files['combined']\n",
    "adata = ad.concat([ad.read_h5ad(c_file) for c_file in combined_files], label=\"batch_indices\")\n",
    "adata"
   ]
  },
  {
   "cell_type": "markdown",
   "id": "8fa9a968",
   "metadata": {},
   "source": [
    "### Run the standard Scanpy workflow"
   ]
  },
  {
   "cell_type": "code",
   "execution_count": 5,
   "id": "b6002b04",
   "metadata": {},
   "outputs": [],
   "source": [
    "def print_ari_nmi(adata: ad.AnnData, resolutions=[0.07, 0.1, 0.13, 0.19, 0.22, 0.25, 0.28, 0.31, 0.35, 0.44, 0.64, 1]) -> None:\n",
    "    \"\"\"\n",
    "    Runs the standard Scanpy worflow to cluster cells using the Leiden algorithm.\n",
    "    Prints out the resolution, ARI, NMI, and ARI+NMI for each resolution.\n",
    "    \"\"\"\n",
    "    sc.pp.filter_cells(adata, min_genes=200)\n",
    "    sc.pp.filter_genes(adata, min_cells=3)\n",
    "    \n",
    "    sc.pp.normalize_total(adata, target_sum=1e4)\n",
    "    sc.pp.log1p(adata)\n",
    "    sc.pp.scale(adata, max_value=10)\n",
    "    \n",
    "    sc.pp.pca(adata)\n",
    "    sc.pp.neighbors(adata)\n",
    "    sc.tl.umap(adata)\n",
    "\n",
    "    sc.pp.neighbors(adata, n_neighbors=15, n_pcs=50)\n",
    "    for r in resolutions:\n",
    "        sc.tl.leiden(adata, resolution=r)\n",
    "        leiden_assignment = list(adata.obs['leiden'].cat.codes)\n",
    "        real_assignment = list(adata.obs['cell_type'].cat.codes)\n",
    "        ari = adjusted_rand_score(real_assignment, leiden_assignment)\n",
    "        nmi = normalized_mutual_info_score(real_assignment, leiden_assignment)\n",
    "        print(r, ari, nmi, ari+nmi)"
   ]
  },
  {
   "cell_type": "code",
   "execution_count": 6,
   "id": "c20362a8",
   "metadata": {},
   "outputs": [
    {
     "name": "stderr",
     "output_type": "stream",
     "text": [
      "2023-04-17 11:52:07.226473: I tensorflow/core/platform/cpu_feature_guard.cc:193] This TensorFlow binary is optimized with oneAPI Deep Neural Network Library (oneDNN) to use the following CPU instructions in performance-critical operations:  AVX2 AVX512F FMA\n",
      "To enable them in other operations, rebuild TensorFlow with the appropriate compiler flags.\n",
      "2023-04-17 11:52:07.363691: W tensorflow/compiler/xla/stream_executor/platform/default/dso_loader.cc:64] Could not load dynamic library 'libcudart.so.11.0'; dlerror: libcudart.so.11.0: cannot open shared object file: No such file or directory; LD_LIBRARY_PATH: /.singularity.d/libs\n",
      "2023-04-17 11:52:07.363722: I tensorflow/compiler/xla/stream_executor/cuda/cudart_stub.cc:29] Ignore above cudart dlerror if you do not have a GPU set up on your machine.\n",
      "2023-04-17 11:52:10.000005: W tensorflow/compiler/xla/stream_executor/platform/default/dso_loader.cc:64] Could not load dynamic library 'libnvinfer.so.7'; dlerror: libnvinfer.so.7: cannot open shared object file: No such file or directory; LD_LIBRARY_PATH: /.singularity.d/libs\n",
      "2023-04-17 11:52:10.000101: W tensorflow/compiler/xla/stream_executor/platform/default/dso_loader.cc:64] Could not load dynamic library 'libnvinfer_plugin.so.7'; dlerror: libnvinfer_plugin.so.7: cannot open shared object file: No such file or directory; LD_LIBRARY_PATH: /.singularity.d/libs\n",
      "2023-04-17 11:52:10.000112: W tensorflow/compiler/tf2tensorrt/utils/py_utils.cc:38] TF-TRT Warning: Cannot dlopen some TensorRT libraries. If you would like to use Nvidia GPU with TensorRT, please make sure the missing libraries mentioned above are installed properly.\n"
     ]
    },
    {
     "name": "stdout",
     "output_type": "stream",
     "text": [
      "0.07 0.4463800060744941 0.5562742321623159 1.00265423823681\n",
      "0.1 0.4463800060744941 0.5562742321623159 1.00265423823681\n",
      "0.13 0.5690842655411174 0.6685767423319435 1.237661007873061\n",
      "0.19 0.4841344796588286 0.5889983934456764 1.073132873104505\n",
      "0.22 0.5209161597011335 0.6133008385392172 1.1342169982403507\n",
      "0.25 0.5351993992877032 0.6205841514138986 1.1557835507016017\n",
      "0.28 0.5586437575746039 0.6174498776536965 1.1760936352283005\n",
      "0.31 0.4921024257082286 0.6038123675326545 1.0959147932408833\n",
      "0.35 0.5552920630362442 0.6175760300573301 1.1728680930935744\n",
      "0.44 0.5124131527721807 0.6140249738687729 1.1264381266409536\n",
      "0.64 0.49037271712564207 0.5930774071709046 1.0834501242965466\n",
      "1 0.2991545474872334 0.5196564591247927 0.8188110066120262\n"
     ]
    }
   ],
   "source": [
    "print_ari_nmi(adata)"
   ]
  },
  {
   "cell_type": "markdown",
   "id": "81580fac",
   "metadata": {},
   "source": [
    "## Only RNA data analysis"
   ]
  },
  {
   "cell_type": "code",
   "execution_count": 8,
   "id": "33c66bce",
   "metadata": {},
   "outputs": [],
   "source": [
    "rna_files = files['rna']\n",
    "adata = ad.concat([ad.read_h5ad(r_file) for r_file in rna_files], label=\"batch_indices\")"
   ]
  },
  {
   "cell_type": "code",
   "execution_count": 9,
   "id": "f82fc7da",
   "metadata": {},
   "outputs": [
    {
     "name": "stdout",
     "output_type": "stream",
     "text": [
      "0.07 0.44854094769014685 0.5630887512139058 1.0116296989040525\n",
      "0.1 0.45732085641728987 0.577613527707321 1.0349343841246108\n",
      "0.13 0.4566485358345694 0.576300167555953 1.0329487033905225\n",
      "0.19 0.47684798591892563 0.5889666364479906 1.0658146223669163\n",
      "0.22 0.6301773416635736 0.6765469551805815 1.306724296844155\n",
      "0.25 0.5925765586279255 0.6614106960584858 1.2539872546864113\n",
      "0.28 0.6093026732099329 0.6565362222931946 1.2658388955031277\n",
      "0.31 0.605572999045663 0.6518152540964525 1.2573882531421154\n",
      "0.35 0.601144100356212 0.6490849576591647 1.2502290580153768\n",
      "0.44 0.592161541231454 0.6401315946359681 1.232293135867422\n",
      "0.64 0.43239768638904147 0.5760237912582062 1.0084214776472478\n",
      "1 0.2861983276655965 0.5314457684005477 0.8176440960661442\n"
     ]
    }
   ],
   "source": [
    "print_ari_nmi(adata)"
   ]
  },
  {
   "cell_type": "code",
   "execution_count": null,
   "id": "e434cd3a",
   "metadata": {},
   "outputs": [],
   "source": []
  }
 ],
 "metadata": {
  "kernelspec": {
   "display_name": "gpu",
   "language": "python",
   "name": "gpu"
  },
  "language_info": {
   "codemirror_mode": {
    "name": "ipython",
    "version": 3
   },
   "file_extension": ".py",
   "mimetype": "text/x-python",
   "name": "python",
   "nbconvert_exporter": "python",
   "pygments_lexer": "ipython3",
   "version": "3.9.13"
  }
 },
 "nbformat": 4,
 "nbformat_minor": 5
}
